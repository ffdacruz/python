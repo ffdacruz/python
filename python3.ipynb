{
 "cells": [
  {
   "cell_type": "markdown",
   "metadata": {
    "collapsed": true
   },
   "source": [
    "# Python 3.x"
   ]
  },
  {
   "cell_type": "markdown",
   "metadata": {},
   "source": [
    "### Profº. Fernando Cruz"
   ]
  },
  {
   "cell_type": "markdown",
   "metadata": {},
   "source": [
    "### Meu primeiro Script Python"
   ]
  },
  {
   "cell_type": "code",
   "execution_count": 1,
   "metadata": {},
   "outputs": [
    {
     "name": "stdout",
     "output_type": "stream",
     "text": [
      "Hello World!\n"
     ]
    }
   ],
   "source": [
    "print('Hello World!')"
   ]
  },
  {
   "cell_type": "markdown",
   "metadata": {},
   "source": [
    "### Obtendo informação do usuário"
   ]
  },
  {
   "cell_type": "code",
   "execution_count": 2,
   "metadata": {},
   "outputs": [
    {
     "name": "stdout",
     "output_type": "stream",
     "text": [
      "Por favor digite o seu nome: Fernando\n",
      "Fernando\n"
     ]
    }
   ],
   "source": [
    "nome = input('Por favor digite o seu nome: ')\n",
    "print(nome)"
   ]
  },
  {
   "cell_type": "markdown",
   "metadata": {},
   "source": [
    "### Linhas em branco"
   ]
  },
  {
   "cell_type": "code",
   "execution_count": 3,
   "metadata": {},
   "outputs": [
    {
     "name": "stdout",
     "output_type": "stream",
     "text": [
      "Primeira linha\n",
      "\n",
      "Linha após a linha em branco.\n"
     ]
    }
   ],
   "source": [
    "# Opção 1\n",
    "print('Primeira linha')\n",
    "print()\n",
    "print('Linha após a linha em branco.')"
   ]
  },
  {
   "cell_type": "code",
   "execution_count": 4,
   "metadata": {},
   "outputs": [
    {
     "name": "stdout",
     "output_type": "stream",
     "text": [
      "Primeira linha\n",
      "\n",
      "Linha após a linha em branco\n"
     ]
    }
   ],
   "source": [
    "# Opção 2\n",
    "print('Primeira linha\\n\\nLinha após a linha em branco')"
   ]
  },
  {
   "cell_type": "markdown",
   "metadata": {},
   "source": [
    "### Quebrando de linhas com \\n"
   ]
  },
  {
   "cell_type": "code",
   "execution_count": 5,
   "metadata": {},
   "outputs": [
    {
     "name": "stdout",
     "output_type": "stream",
     "text": [
      "Isso esta na primeira linha \n",
      "e isso esta na segunda linha.\n"
     ]
    }
   ],
   "source": [
    "print('Isso esta na primeira linha \\ne isso esta na segunda linha.')"
   ]
  },
  {
   "cell_type": "markdown",
   "metadata": {},
   "source": [
    "### Debugging com print()"
   ]
  },
  {
   "cell_type": "code",
   "execution_count": 6,
   "metadata": {},
   "outputs": [
    {
     "name": "stdout",
     "output_type": "stream",
     "text": [
      "Adicionando valores\n",
      "Fazendo a divisão\n"
     ]
    },
    {
     "ename": "ZeroDivisionError",
     "evalue": "division by zero",
     "output_type": "error",
     "traceback": [
      "\u001b[0;31m---------------------------------------------------------------------------\u001b[0m",
      "\u001b[0;31mZeroDivisionError\u001b[0m                         Traceback (most recent call last)",
      "\u001b[0;32m<ipython-input-6-bd2d81bb66de>\u001b[0m in \u001b[0;36m<module>\u001b[0;34m\u001b[0m\n\u001b[1;32m      2\u001b[0m \u001b[0mx\u001b[0m \u001b[0;34m=\u001b[0m \u001b[0;36m34\u001b[0m \u001b[0;34m+\u001b[0m \u001b[0;36m473\u001b[0m\u001b[0;34m\u001b[0m\u001b[0;34m\u001b[0m\u001b[0m\n\u001b[1;32m      3\u001b[0m \u001b[0mprint\u001b[0m\u001b[0;34m(\u001b[0m\u001b[0;34m'Fazendo a divisão'\u001b[0m\u001b[0;34m)\u001b[0m\u001b[0;34m\u001b[0m\u001b[0;34m\u001b[0m\u001b[0m\n\u001b[0;32m----> 4\u001b[0;31m \u001b[0my\u001b[0m \u001b[0;34m=\u001b[0m \u001b[0mx\u001b[0m \u001b[0;34m/\u001b[0m \u001b[0;36m0\u001b[0m\u001b[0;34m\u001b[0m\u001b[0;34m\u001b[0m\u001b[0m\n\u001b[0m\u001b[1;32m      5\u001b[0m \u001b[0mprint\u001b[0m\u001b[0;34m(\u001b[0m\u001b[0;34m'Divisão efetuada com sucesso!'\u001b[0m\u001b[0;34m)\u001b[0m\u001b[0;34m\u001b[0m\u001b[0;34m\u001b[0m\u001b[0m\n",
      "\u001b[0;31mZeroDivisionError\u001b[0m: division by zero"
     ]
    }
   ],
   "source": [
    "print('Adicionando valores')\n",
    "x = 34 + 473\n",
    "print('Fazendo a divisão')\n",
    "y = x / 0\n",
    "print('Divisão efetuada com sucesso!')"
   ]
  },
  {
   "cell_type": "markdown",
   "metadata": {},
   "source": [
    "### Utilizando Comentários"
   ]
  },
  {
   "cell_type": "code",
   "execution_count": 7,
   "metadata": {},
   "outputs": [],
   "source": [
    "# \"Control + KC\" Comenta a linha apontada pelo cursor.\n",
    "# \"Control + KU\" Descomenta a linha apontada pelo cursos."
   ]
  },
  {
   "cell_type": "markdown",
   "metadata": {},
   "source": [
    "### Trabalhando com strings"
   ]
  },
  {
   "cell_type": "code",
   "execution_count": 8,
   "metadata": {},
   "outputs": [
    {
     "name": "stdout",
     "output_type": "stream",
     "text": [
      "Fernando\n",
      "<class 'str'>\n"
     ]
    }
   ],
   "source": [
    "nome = 'Fernando'\n",
    "print(nome)\n",
    "print(type(nome)) #Retorna o tipo da variável"
   ]
  },
  {
   "cell_type": "code",
   "execution_count": 9,
   "metadata": {},
   "outputs": [
    {
     "name": "stdout",
     "output_type": "stream",
     "text": [
      "FernandoCruz\n",
      "Olá Fernando Cruz você tem 37 anos\n"
     ]
    }
   ],
   "source": [
    "nome = 'Fernando'\n",
    "sobre_nome = 'Cruz'\n",
    "idade = 37\n",
    "print(nome + sobre_nome)\n",
    "print('Olá ' + nome + ' ' +sobre_nome + ' ' + 'você tem ' + str(idade) + ' anos')"
   ]
  },
  {
   "cell_type": "markdown",
   "metadata": {},
   "source": [
    "### Funções para modificar strings"
   ]
  },
  {
   "cell_type": "code",
   "execution_count": 10,
   "metadata": {},
   "outputs": [
    {
     "name": "stdout",
     "output_type": "stream",
     "text": [
      "MEU CÃO SE CHAMA LÉO\n",
      "meu cão se chama léo\n",
      "Meu cão se chama léo\n",
      "2\n"
     ]
    },
    {
     "data": {
      "text/plain": [
       "20"
      ]
     },
     "execution_count": 10,
     "metadata": {},
     "output_type": "execute_result"
    }
   ],
   "source": [
    "frase = 'Meu cão se chama Léo'\n",
    "print(frase.upper())\n",
    "print(frase.lower())\n",
    "print(frase.capitalize())\n",
    "print(frase.count('a'))\n",
    "len(frase)"
   ]
  },
  {
   "cell_type": "markdown",
   "metadata": {},
   "source": [
    "### Formatando strings"
   ]
  },
  {
   "cell_type": "code",
   "execution_count": 11,
   "metadata": {},
   "outputs": [
    {
     "name": "stdout",
     "output_type": "stream",
     "text": [
      "Olá, Fernando Cruz\n",
      "Olá, Fernando Cruz\n",
      "Olá, Cruz Fernando\n",
      "Olá, Fernando Cruz você tem 37 anos\n"
     ]
    }
   ],
   "source": [
    "nome = 'Fernando'\n",
    "sobre_nome = 'Cruz'\n",
    "minha_idade = 37\n",
    "\n",
    "print('Olá, ' + nome + ' ' + sobre_nome)\n",
    "print('Olá, {} {}'.format(nome, sobre_nome))\n",
    "print('Olá, {1} {0}'.format(nome, sobre_nome))\n",
    "\n",
    "#Apenas no Python 3\n",
    "print(f'Olá, {nome} {sobre_nome} você tem {minha_idade} anos')"
   ]
  },
  {
   "cell_type": "markdown",
   "metadata": {},
   "source": [
    "### Trabalhando com Números"
   ]
  },
  {
   "cell_type": "code",
   "execution_count": 12,
   "metadata": {},
   "outputs": [
    {
     "name": "stdout",
     "output_type": "stream",
     "text": [
      "3.14159\n"
     ]
    }
   ],
   "source": [
    "pi = 3.14159\n",
    "print(pi)"
   ]
  },
  {
   "cell_type": "code",
   "execution_count": 13,
   "metadata": {},
   "outputs": [],
   "source": [
    "#Operadores Aritméticos\n",
    "# +  Adição\n",
    "# -  Subtração\n",
    "# *  Multiplicação\n",
    "# /  Divisão\n",
    "# ** Exponenciação (6 ** 2 é igual a 6*6 resultado = 36)"
   ]
  },
  {
   "cell_type": "code",
   "execution_count": 14,
   "metadata": {},
   "outputs": [
    {
     "name": "stdout",
     "output_type": "stream",
     "text": [
      "8\n",
      "36\n"
     ]
    }
   ],
   "source": [
    "num1 = 6\n",
    "num2 = 2\n",
    "\n",
    "print(num1 + num2)\n",
    "print(num1 ** num2)"
   ]
  },
  {
   "cell_type": "markdown",
   "metadata": {},
   "source": [
    "### Combinando strings e números"
   ]
  },
  {
   "cell_type": "code",
   "execution_count": 15,
   "metadata": {},
   "outputs": [
    {
     "name": "stdout",
     "output_type": "stream",
     "text": [
      "28 dias em fevereiro\n"
     ]
    }
   ],
   "source": [
    "dias_em_fevereiro = 28\n",
    "print(f'{dias_em_fevereiro} dias em fevereiro')"
   ]
  },
  {
   "cell_type": "code",
   "execution_count": 16,
   "metadata": {},
   "outputs": [
    {
     "name": "stdout",
     "output_type": "stream",
     "text": [
      "65\n"
     ]
    }
   ],
   "source": [
    "# concatena\n",
    "num1 = '6'\n",
    "num2 = '5'\n",
    "print(num1 + num2)"
   ]
  },
  {
   "cell_type": "code",
   "execution_count": 17,
   "metadata": {},
   "outputs": [
    {
     "name": "stdout",
     "output_type": "stream",
     "text": [
      "10\n"
     ]
    }
   ],
   "source": [
    "# soma\n",
    "num1 = 6\n",
    "num2 = 4\n",
    "print(num1 + num2)"
   ]
  },
  {
   "cell_type": "code",
   "execution_count": 18,
   "metadata": {},
   "outputs": [
    {
     "name": "stdout",
     "output_type": "stream",
     "text": [
      "Digite o primeiro numero: 23\n",
      "Digite o segundo numero: 45\n",
      "2345\n"
     ]
    }
   ],
   "source": [
    "# concatena\n",
    "num1 = input('Digite o primeiro numero: ')\n",
    "num2 = input('Digite o segundo numero: ')\n",
    "print(num1 + num2)"
   ]
  },
  {
   "cell_type": "code",
   "execution_count": 19,
   "metadata": {},
   "outputs": [
    {
     "name": "stdout",
     "output_type": "stream",
     "text": [
      "Digite o primeiro numero: 34\n",
      "Digite o segundo numero: 45\n",
      "79\n"
     ]
    }
   ],
   "source": [
    "# soma (Convert)\n",
    "num1 = input('Digite o primeiro numero: ')\n",
    "num2 = input('Digite o segundo numero: ')\n",
    "print(int(num1) + int(num2))"
   ]
  },
  {
   "cell_type": "markdown",
   "metadata": {},
   "source": [
    "### Trabalhando com Datas"
   ]
  },
  {
   "cell_type": "code",
   "execution_count": 20,
   "metadata": {},
   "outputs": [
    {
     "name": "stdout",
     "output_type": "stream",
     "text": [
      "A data de hoje é 2020-04-13 17:08:07.704754\n"
     ]
    }
   ],
   "source": [
    "# Faço o importa da biblioteca datetime\n",
    "from datetime import datetime\n",
    "data_atual = datetime.now()\n",
    "print(f'A data de hoje é {data_atual}')"
   ]
  },
  {
   "cell_type": "code",
   "execution_count": 21,
   "metadata": {},
   "outputs": [
    {
     "name": "stdout",
     "output_type": "stream",
     "text": [
      "A data de hoje é 2020-04-13 17:08:08.883204\n",
      "Ontem foi 2020-04-12 17:08:08.883204\n"
     ]
    }
   ],
   "source": [
    "# Manipulando Datas\n",
    "# https://docs.python.org/3/library/datetime.html\n",
    "\n",
    "from datetime import datetime, timedelta\n",
    "hoje = datetime.now()\n",
    "print(f'A data de hoje é {hoje}')\n",
    "\n",
    "# timedelta\n",
    "um_dia = timedelta(days = 1)\n",
    "ontem  = hoje - um_dia\n",
    "print(f'Ontem foi {ontem}')"
   ]
  },
  {
   "cell_type": "code",
   "execution_count": 22,
   "metadata": {},
   "outputs": [
    {
     "name": "stdout",
     "output_type": "stream",
     "text": [
      "Dia 13\n",
      "Mês 4\n",
      "Ano 2020\n"
     ]
    }
   ],
   "source": [
    "# Formatando Datas\n",
    "from datetime import datetime\n",
    "hoje = datetime.now()\n",
    "\n",
    "print(f'Dia {hoje.day}')\n",
    "print(f'Mês {hoje.month}')\n",
    "print(f'Ano {hoje.year}')"
   ]
  },
  {
   "cell_type": "code",
   "execution_count": 23,
   "metadata": {},
   "outputs": [
    {
     "name": "stdout",
     "output_type": "stream",
     "text": [
      "Qual sua data de aniversário? dd/mm/yyyy19/11/1982\n",
      "Aniversário: 1982-11-19 00:00:00\n"
     ]
    }
   ],
   "source": [
    "# Convertendo string em datetime\n",
    "from datetime import datetime\n",
    "aniversario = input('Qual sua data de aniversário? dd/mm/yyyy')\n",
    "data_aniversario = datetime.strptime(aniversario, '%d/%m/%Y')\n",
    "print(f'Aniversário: {data_aniversario}')"
   ]
  },
  {
   "cell_type": "markdown",
   "metadata": {},
   "source": [
    "### Tratando Erros com 'try, except e finally'"
   ]
  },
  {
   "cell_type": "code",
   "execution_count": 24,
   "metadata": {},
   "outputs": [],
   "source": [
    "# Erro de Syntax\n",
    "\n",
    "# Código escrito de forma incorreta\n",
    "x = 34\n",
    "y = 67\n",
    "if x == y:\n",
    "    print('Verdadeiro!')"
   ]
  },
  {
   "cell_type": "code",
   "execution_count": 25,
   "metadata": {},
   "outputs": [
    {
     "ename": "ZeroDivisionError",
     "evalue": "division by zero",
     "output_type": "error",
     "traceback": [
      "\u001b[0;31m---------------------------------------------------------------------------\u001b[0m",
      "\u001b[0;31mZeroDivisionError\u001b[0m                         Traceback (most recent call last)",
      "\u001b[0;32m<ipython-input-25-d6d10c5fddaf>\u001b[0m in \u001b[0;36m<module>\u001b[0;34m\u001b[0m\n\u001b[1;32m      2\u001b[0m \u001b[0mx\u001b[0m \u001b[0;34m=\u001b[0m \u001b[0;36m45\u001b[0m\u001b[0;34m\u001b[0m\u001b[0;34m\u001b[0m\u001b[0m\n\u001b[1;32m      3\u001b[0m \u001b[0my\u001b[0m \u001b[0;34m=\u001b[0m \u001b[0;36m0\u001b[0m\u001b[0;34m\u001b[0m\u001b[0;34m\u001b[0m\u001b[0m\n\u001b[0;32m----> 4\u001b[0;31m \u001b[0mprint\u001b[0m\u001b[0;34m(\u001b[0m\u001b[0mx\u001b[0m \u001b[0;34m/\u001b[0m \u001b[0my\u001b[0m\u001b[0;34m)\u001b[0m \u001b[0;31m# divisão por zero\u001b[0m\u001b[0;34m\u001b[0m\u001b[0;34m\u001b[0m\u001b[0m\n\u001b[0m",
      "\u001b[0;31mZeroDivisionError\u001b[0m: division by zero"
     ]
    }
   ],
   "source": [
    "# Código escrito de forma correta, mas com um comportamento inesperado.\n",
    "x = 45\n",
    "y = 0\n",
    "print(x / y) # divisão por zero"
   ]
  },
  {
   "cell_type": "code",
   "execution_count": 26,
   "metadata": {},
   "outputs": [
    {
     "name": "stdout",
     "output_type": "stream",
     "text": [
      "Desculpe, alguma coisa deu errado\n",
      "Isso sempre será executado, o try dando certo ou errado\n"
     ]
    }
   ],
   "source": [
    "# Tratando o erro com try\n",
    "x = 34\n",
    "y = 0\n",
    "\n",
    "try:\n",
    "    print(x / y)\n",
    "except ZeroDivisionError as e:\n",
    "    # Opcional, mensagem de log\n",
    "    print('Desculpe, alguma coisa deu errado')\n",
    "except:\n",
    "    print('Alguma coisa realmente deu errado')\n",
    "finally:\n",
    "    print('Isso sempre será executado, o try dando certo ou errado')"
   ]
  },
  {
   "cell_type": "markdown",
   "metadata": {},
   "source": [
    "### Trabalhando com Condições 'if, else e elif'"
   ]
  },
  {
   "cell_type": "code",
   "execution_count": 27,
   "metadata": {},
   "outputs": [],
   "source": [
    "# Operadores Lógicos:\n",
    "#  > Maior\n",
    "#  < Menor\n",
    "# >= Maior ou igual\n",
    "# <= Menor ou igual\n",
    "# == Igual\n",
    "# != Diferente"
   ]
  },
  {
   "cell_type": "code",
   "execution_count": 28,
   "metadata": {},
   "outputs": [
    {
     "name": "stdout",
     "output_type": "stream",
     "text": [
      "0.5\n"
     ]
    }
   ],
   "source": [
    "# Calculando uma taxa sobre o valor\n",
    "# if\n",
    "preco = 1.50\n",
    "if preco > 1.00:\n",
    "    taxa = .50\n",
    "    print(taxa)\n",
    "    "
   ]
  },
  {
   "cell_type": "code",
   "execution_count": 29,
   "metadata": {},
   "outputs": [
    {
     "name": "stdout",
     "output_type": "stream",
     "text": [
      "0.5\n"
     ]
    }
   ],
   "source": [
    "# if - else\n",
    "preco = 1.50\n",
    "if preco > 1.00:\n",
    "    taxa = .50\n",
    "else:\n",
    "    taxa = 0\n",
    "print(taxa)"
   ]
  },
  {
   "cell_type": "code",
   "execution_count": 30,
   "metadata": {},
   "outputs": [
    {
     "name": "stdout",
     "output_type": "stream",
     "text": [
      "você não é do Brasil\n"
     ]
    }
   ],
   "source": [
    "# Exemplo 2 if - else\n",
    "seu_pais = 'BRASIL'\n",
    "if seu_pais == 'brasil': # <-- Python diferencia letras maiúculas e minúsculas\n",
    "    print('você é brasileiro!')\n",
    "else:\n",
    "    print('você não é do Brasil')    "
   ]
  },
  {
   "cell_type": "code",
   "execution_count": 31,
   "metadata": {},
   "outputs": [],
   "source": [
    "# Testando várias condições\n",
    "# Tabela verdade\n",
    "\n",
    "# Primeira condição    Segunda Condição    Resultado\n",
    "# TRUE                 TRUE                TRUE\n",
    "# TRUE                 FALSE               TRUE\n",
    "# FALSE                TRUE                TRUE\n",
    "# FALSE                FALSE               FALSE"
   ]
  },
  {
   "cell_type": "code",
   "execution_count": 32,
   "metadata": {},
   "outputs": [
    {
     "name": "stdout",
     "output_type": "stream",
     "text": [
      "0.5\n"
     ]
    }
   ],
   "source": [
    "# Unica condição\n",
    "uf = 'PR'\n",
    "if uf.lower() == 'pr':\n",
    "    taxa = .50\n",
    "elif uf.lower() == 'rs':\n",
    "    taxa = .80\n",
    "elif uf.lower() == 'sc':\n",
    "    taxa = .60\n",
    "else:\n",
    "    taxa = 0\n",
    "print(taxa)"
   ]
  },
  {
   "cell_type": "code",
   "execution_count": 33,
   "metadata": {},
   "outputs": [
    {
     "name": "stdout",
     "output_type": "stream",
     "text": [
      "0.5\n"
     ]
    }
   ],
   "source": [
    "# Multiplas condições\n",
    "uf = 'SP'\n",
    "if uf.lower() == 'pr' or uf.lower() == 'sp':\n",
    "    taxa = .50\n",
    "elif uf.lower() == 'rs':\n",
    "    taxa = .80\n",
    "elif uf.lower() == 'sc':\n",
    "    taxa = .60\n",
    "else:\n",
    "    taxa = 0\n",
    "print(taxa)"
   ]
  },
  {
   "cell_type": "code",
   "execution_count": 34,
   "metadata": {},
   "outputs": [
    {
     "name": "stdout",
     "output_type": "stream",
     "text": [
      "0.5\n"
     ]
    }
   ],
   "source": [
    "# Verificando valores de uma Lista\n",
    "uf = 'PR'\n",
    "if uf.lower() in ('pr', 'sp', 'am'):\n",
    "    taxa = .50\n",
    "elif uf.lower() == 'rs':\n",
    "    taxa = .80\n",
    "elif uf.lower() == 'sc':\n",
    "    taxa = .60\n",
    "else:\n",
    "    taxa = 0\n",
    "print(taxa)"
   ]
  },
  {
   "cell_type": "code",
   "execution_count": 35,
   "metadata": {},
   "outputs": [
    {
     "name": "stdout",
     "output_type": "stream",
     "text": [
      "Esta aprovado!\n"
     ]
    }
   ],
   "source": [
    "# Verificação complexa\n",
    "algoritmos = 7.0\n",
    "matematica = 8.6\n",
    "\n",
    "if algoritmos >= 7.0 and matematica >= 6.0:\n",
    "    aprovado = True\n",
    "else:\n",
    "    aprovado = False\n",
    "\n",
    "if aprovado:\n",
    "    print('Esta aprovado!')\n",
    "    "
   ]
  },
  {
   "cell_type": "markdown",
   "metadata": {},
   "source": [
    "### Trabalhando com Loops"
   ]
  },
  {
   "cell_type": "code",
   "execution_count": 36,
   "metadata": {},
   "outputs": [
    {
     "name": "stdout",
     "output_type": "stream",
     "text": [
      "Fernando\n",
      "Carlos\n",
      "Monica\n"
     ]
    }
   ],
   "source": [
    "# Laço 'for' em Coleções de Dados\n",
    "for nome in ['Fernando', 'Carlos', 'Monica']:\n",
    "    print(nome)"
   ]
  },
  {
   "cell_type": "code",
   "execution_count": 37,
   "metadata": {},
   "outputs": [
    {
     "name": "stdout",
     "output_type": "stream",
     "text": [
      "0\n",
      "1\n"
     ]
    }
   ],
   "source": [
    "# Laço 'for' definindo a quantidade de repetições\n",
    "for index in range(0,2):\n",
    "    print(index)"
   ]
  },
  {
   "cell_type": "code",
   "execution_count": 38,
   "metadata": {},
   "outputs": [
    {
     "name": "stdout",
     "output_type": "stream",
     "text": [
      "Fernando\n",
      "Carlos\n",
      "Monica\n"
     ]
    }
   ],
   "source": [
    "# Laço while\n",
    "nomes = ['Fernando', 'Carlos', 'Monica']\n",
    "index = 0\n",
    "while index < len(nomes):\n",
    "    print(nomes[index])\n",
    "    # Mudo a condição\n",
    "    index = index + 1\n"
   ]
  },
  {
   "cell_type": "markdown",
   "metadata": {},
   "source": [
    "### Coleções de dados"
   ]
  },
  {
   "cell_type": "code",
   "execution_count": 39,
   "metadata": {},
   "outputs": [
    {
     "name": "stdout",
     "output_type": "stream",
     "text": [
      "['Fernando', 'Carlos', 'Monica']\n",
      "[12, 45]\n",
      "45\n"
     ]
    }
   ],
   "source": [
    "## Lista []\n",
    "nomes = ['Fernando', 'Carlos', 'Monica'] ## Cria um Lista com três valores\n",
    "pontos = [] ## Cria uma Lista vazia\n",
    "pontos.append(12) ## Função append() para adicionar um elemento na Lista\n",
    "pontos.append(45)\n",
    "print(nomes)\n",
    "print(pontos)\n",
    "print(pontos[1]) ## Imprime o valor da Lista 'pontos' de índice 1"
   ]
  },
  {
   "cell_type": "code",
   "execution_count": 40,
   "metadata": {},
   "outputs": [
    {
     "name": "stdout",
     "output_type": "stream",
     "text": [
      "array('d', [34.0, 22.0])\n",
      "22.0\n"
     ]
    }
   ],
   "source": [
    "## Utilizando Array ('type')\n",
    "from array import array # Importa o array\n",
    "pontos = array('d') ## 'd' é igual ao tipo de dados trabalhado no array, neste caso double\n",
    "pontos.append(34)\n",
    "pontos.append(22)\n",
    "print(pontos)\n",
    "print(pontos[1])"
   ]
  },
  {
   "cell_type": "code",
   "execution_count": 41,
   "metadata": {},
   "outputs": [
    {
     "name": "stdout",
     "output_type": "stream",
     "text": [
      "2\n",
      "['Fernando', 'Carlos', 'Monica']\n",
      "['Carlos', 'Fernando', 'Monica']\n"
     ]
    }
   ],
   "source": [
    "## Funções para Lista\n",
    "nomes = ['Carlos', 'Monica']\n",
    "print(len(nomes)) ## Retorna a quantidade de itens na lista\n",
    "\n",
    "nomes.insert(0, 'Fernando') ## Insere um elemento antes do atual índice 0 (zero)\n",
    "print(nomes)\n",
    "\n",
    "nomes.sort() ## Ordena os dados da Lista\n",
    "print(nomes)\n"
   ]
  },
  {
   "cell_type": "code",
   "execution_count": 42,
   "metadata": {},
   "outputs": [
    {
     "name": "stdout",
     "output_type": "stream",
     "text": [
      "['Fernando', 'Carlos', 'Monica', 'Patricia']\n",
      "['Carlos', 'Monica']\n"
     ]
    }
   ],
   "source": [
    "## Recuperando intervalos de dados\n",
    "nomes = ['Fernando', 'Carlos', 'Monica', 'Patricia']\n",
    "\n",
    "presentes = nomes[1:3] ## Recupera um intervalo de dados pelo índice inicial[1] e o índice final[3]\n",
    "\n",
    "print(nomes)\n",
    "print(presentes)"
   ]
  },
  {
   "cell_type": "code",
   "execution_count": 43,
   "metadata": {},
   "outputs": [
    {
     "name": "stdout",
     "output_type": "stream",
     "text": [
      "{'primeiro': 'Fernando', 'segundo': 'Carlos'}\n",
      "Carlos\n"
     ]
    }
   ],
   "source": [
    "## Dicionários {'chave':'valor'}\n",
    "pessoas = {'primeiro': 'Fernando'}\n",
    "pessoas['segundo'] = 'Carlos'\n",
    "\n",
    "print(pessoas)\n",
    "print(pessoas['segundo'])\n"
   ]
  },
  {
   "cell_type": "markdown",
   "metadata": {},
   "source": [
    "## Trabalhando com Funções"
   ]
  },
  {
   "cell_type": "code",
   "execution_count": 44,
   "metadata": {},
   "outputs": [
    {
     "name": "stdout",
     "output_type": "stream",
     "text": [
      "primeiro nome inserido às\n",
      "2020-04-13 17:09:18.863555\n",
      "\n",
      "0\n",
      "1\n",
      "2\n",
      "3\n",
      "4\n",
      "5\n",
      "6\n",
      "7\n",
      "8\n",
      "9\n",
      "loop completo às\n",
      "2020-04-13 17:09:18.864005\n",
      "\n"
     ]
    }
   ],
   "source": [
    "# Exemplo 01 - Sem o uso de funções\n",
    "from datetime import datetime\n",
    "\n",
    "primeiro_nome = 'Fernando'\n",
    "\n",
    "# *estas três linhas fazem algo\n",
    "print('primeiro nome inserido às')\n",
    "print(datetime.now())\n",
    "print()\n",
    "\n",
    "for x in range(0,10):\n",
    "    print(x)\n",
    "\n",
    "# *estas três linhas fazem a mesma coisa\n",
    "print('loop completo às')\n",
    "print(datetime.now())\n",
    "print()\n"
   ]
  },
  {
   "cell_type": "code",
   "execution_count": 45,
   "metadata": {},
   "outputs": [
    {
     "name": "stdout",
     "output_type": "stream",
     "text": [
      "Primeiro nome inserido às\n",
      "2020-04-13 17:09:20.906659\n",
      "\n",
      "0\n",
      "1\n",
      "2\n",
      "3\n",
      "4\n",
      "5\n",
      "6\n",
      "7\n",
      "8\n",
      "9\n",
      "loop completo às\n",
      "2020-04-13 17:09:20.907059\n",
      "\n"
     ]
    }
   ],
   "source": [
    "# Exemplo 02 - Com o uso de funções\n",
    "\n",
    "from datetime import datetime\n",
    "\n",
    "def print_time(mensagem): # def significa 'de'fina a 'f'unção, esta função possui 01 parâmetro.\n",
    "    print(mensagem) # imprime o valor do parâmetro\n",
    "    print(datetime.now())\n",
    "    print()\n",
    "    \n",
    "primeiro_nome = 'Fernando'\n",
    "\n",
    "# Chama a função 'print_time' e passa uma string como parâmetro\n",
    "print_time('Primeiro nome inserido às')\n",
    "\n",
    "for x in range(0,10):\n",
    "    print(x)\n",
    "\n",
    "print_time('loop completo às')\n",
    "    "
   ]
  },
  {
   "cell_type": "code",
   "execution_count": 46,
   "metadata": {},
   "outputs": [
    {
     "name": "stdout",
     "output_type": "stream",
     "text": [
      "Digite seu primeiro nome: Fernando\n",
      "Digite seu sobrenome: Cruz\n",
      "Suas iniciais são: FC\n"
     ]
    }
   ],
   "source": [
    "# Exemplo 03 - Sem o uso de funções\n",
    "\n",
    "primeiro_nome = input('Digite seu primeiro nome: ')\n",
    "inicial_do_primeiro_nome = primeiro_nome[0:1]\n",
    "\n",
    "sobrenome = input('Digite seu sobrenome: ')\n",
    "inicial_do_sobrenome = sobrenome[0:1]\n",
    "\n",
    "print(f'Suas iniciais são: {inicial_do_primeiro_nome}{inicial_do_sobrenome}')"
   ]
  },
  {
   "cell_type": "code",
   "execution_count": 47,
   "metadata": {},
   "outputs": [
    {
     "name": "stdout",
     "output_type": "stream",
     "text": [
      "Digite seu primeiro nome: Fernando\n",
      "Digite seu sobrenome: Cruz\n",
      "Suas iniciais são: FC\n"
     ]
    }
   ],
   "source": [
    "# Exemplo 04 - Com o uso de funções\n",
    "\n",
    "def obter_iniciais(nome):\n",
    "    inicial = nome[0:1].upper()\n",
    "    return inicial # a função 'obter_iniciais' que recebe um parâmetro retorna um valor quando chamada\n",
    "\n",
    "primeiro_nome = input('Digite seu primeiro nome: ')\n",
    "inicial_do_primeiro_nome = obter_iniciais(primeiro_nome)\n",
    "\n",
    "sobrenome = input('Digite seu sobrenome: ')\n",
    "inicial_do_sobrenome = obter_iniciais(sobrenome)\n",
    "\n",
    "print(f'Suas iniciais são: {inicial_do_primeiro_nome}{inicial_do_sobrenome}')"
   ]
  },
  {
   "cell_type": "code",
   "execution_count": 48,
   "metadata": {},
   "outputs": [
    {
     "name": "stdout",
     "output_type": "stream",
     "text": [
      "Digite seu primeiro nome: Fernando\n",
      "Digite seu sobrenome: Cruz\n",
      "Suas iniciais são: FC\n"
     ]
    }
   ],
   "source": [
    "# Exemplo 05 - Com o uso de funções e melhorando nosso código\n",
    "\n",
    "def obter_iniciais(nome):\n",
    "    inicial = nome[0:1].upper()\n",
    "    return inicial\n",
    "\n",
    "primeiro_nome = input('Digite seu primeiro nome: ')\n",
    "sobrenome     = input('Digite seu sobrenome: ')\n",
    "\n",
    "print(f'Suas iniciais são: {obter_iniciais(primeiro_nome)}{obter_iniciais(sobrenome)}')"
   ]
  },
  {
   "cell_type": "code",
   "execution_count": null,
   "metadata": {},
   "outputs": [],
   "source": [
    "# Exemplo 06 - Com o uso de funções com mais de um parâmetro\n",
    "\n",
    "def obter_iniciais(nome, force_maiuscula):\n",
    "    if force_maiuscula:\n",
    "        inicial = nome[0:1].upper()\n",
    "    else:\n",
    "        inicial = nome[0:1]\n",
    "    return inicial\n",
    "\n",
    "primeiro_nome = input('Digite seu primeiro nome: ')\n",
    "sobrenome     = input('Digite seu sobrenome: ')\n",
    "\n",
    "print(f'Suas iniciais são: {obter_iniciais(primeiro_nome, True)}{obter_iniciais(sobrenome, False)}')\n"
   ]
  },
  {
   "cell_type": "code",
   "execution_count": null,
   "metadata": {},
   "outputs": [],
   "source": [
    "# Exemplo 07 - Com o uso de funções com mais de um parâmetro com valor padrão\n",
    "\n",
    "def obter_iniciais(nome, force_maiuscula = True): # Setando o valor padrão a obrigatoriedade de preenchimento é retirada\n",
    "    if force_maiuscula:\n",
    "        inicial = nome[0:1].upper()\n",
    "    else:\n",
    "        inicial = nome[0:1]\n",
    "    return inicial\n",
    "\n",
    "primeiro_nome = input('Digite seu primeiro nome: ')\n",
    "sobrenome     = input('Digite seu sobrenome: ')\n",
    "\n",
    "print(f'Suas iniciais são: {obter_iniciais(primeiro_nome)}{obter_iniciais(sobrenome, False)}')"
   ]
  },
  {
   "cell_type": "code",
   "execution_count": null,
   "metadata": {},
   "outputs": [],
   "source": [
    "# Exemplo 08 - Com o uso de funções com mais de um parâmetro com valor padrão e passagem desordenada\n",
    "\n",
    "def obter_iniciais(nome, force_maiuscula = True): # Setando o valor padrão a obrigatoriedade de preenchimento é retirada\n",
    "    if force_maiuscula:\n",
    "        inicial = nome[0:1].upper()\n",
    "    else:\n",
    "        inicial = nome[0:1]\n",
    "    return inicial\n",
    "\n",
    "primeiro_nome = input('Digite seu primeiro nome: ')\n",
    "sobrenome     = input('Digite seu sobrenome: ')\n",
    "\n",
    "# Inverto a ordem da passagem de parâmetros mas dizendo qual valor vai para cada parâmetro\n",
    "print(f'Suas iniciais são: {obter_iniciais(force_maiuscula = True, nome = primeiro_nome)}{obter_iniciais(sobrenome)}')"
   ]
  },
  {
   "cell_type": "markdown",
   "metadata": {},
   "source": [
    "## Trabalhando com Módulos e Pacotes"
   ]
  },
  {
   "cell_type": "code",
   "execution_count": null,
   "metadata": {},
   "outputs": [],
   "source": [
    "# Importando Módulos\n",
    "\n",
    "# importar módulo pelo namespace\n",
    "import helpers # 'helpers' é um arquivo/pacote no projeto chamado helpers.py\n",
    "helpers.display('Olá mundo!') # 'display' é uma função que esta dentro de 'helpers.py' que imprime uma string."
   ]
  },
  {
   "cell_type": "code",
   "execution_count": null,
   "metadata": {},
   "outputs": [],
   "source": [
    "# importar todos os módulos do namespace\n",
    "from helpers import * # o simbolo '*' importa e te da acesso a todas as funções do pacote 'helpers.py'\n",
    "display('Olá mundo!')"
   ]
  },
  {
   "cell_type": "code",
   "execution_count": null,
   "metadata": {},
   "outputs": [],
   "source": [
    "# importar módulo específico\n",
    "from helpers import display # neste caso é importado apenas a função 'display', ou seja, não é possível acessar outras funções do pacote 'helpers'\n",
    "display('Olá mundo!')"
   ]
  },
  {
   "cell_type": "markdown",
   "metadata": {},
   "source": [
    "## Instalando Pacotes"
   ]
  },
  {
   "cell_type": "code",
   "execution_count": null,
   "metadata": {},
   "outputs": [],
   "source": [
    "# Instalação individual de pacotes utilizando o 'pip'\n",
    "pip install colorama"
   ]
  },
  {
   "cell_type": "code",
   "execution_count": null,
   "metadata": {},
   "outputs": [],
   "source": [
    "# Instalando uma lista de pacotes por um arquivo chamado 'requirements.txt'\n",
    "pip install -r requirements.txt"
   ]
  },
  {
   "cell_type": "code",
   "execution_count": null,
   "metadata": {},
   "outputs": [],
   "source": [
    "# conteúdo do arquivo 'requirements.txt'\n",
    "-e git+https://github.com/mwaskom/seaborn.git # instala um pacote através de uma url do github\n",
    "colorama              # instala o pacote com a versão mais atual\n",
    "seaborn==0.10.0       # instala o pacote com a versão específica ex: 0.10.0\n",
    "pandas>=1.0.0,<=1.0.3 # instala o pacote por um intervalo de versão, no caso entre '1.0.0' e '1.0.3'"
   ]
  },
  {
   "cell_type": "code",
   "execution_count": null,
   "metadata": {},
   "outputs": [],
   "source": [
    "# Gerando o arquivo requirements.txt\n",
    "pip freeze # mostra no console todos os pacotes utilizados no projeto\n",
    "pip freeze > requirements.txt # o sinal '>' escreve tudo que aparece no console em um arquivo chamado requirements.txt"
   ]
  }
 ],
 "metadata": {
  "kernelspec": {
   "display_name": "Python 3",
   "language": "python",
   "name": "python3"
  },
  "language_info": {
   "codemirror_mode": {
    "name": "ipython",
    "version": 3
   },
   "file_extension": ".py",
   "mimetype": "text/x-python",
   "name": "python",
   "nbconvert_exporter": "python",
   "pygments_lexer": "ipython3",
   "version": "3.7.4"
  }
 },
 "nbformat": 4,
 "nbformat_minor": 2
}
